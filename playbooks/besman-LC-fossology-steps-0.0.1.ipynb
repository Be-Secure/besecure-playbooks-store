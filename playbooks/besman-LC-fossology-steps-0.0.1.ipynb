{
 "cells": [
  {
   "cell_type": "markdown",
   "id": "fc21c09e",
   "metadata": {},
   "source": [
    "Follow below steps for the Fossology\n",
    "\n",
    "1. 1.Execute the below commamnd:\n",
    "    -docker pull fossology/fossology:latest \n",
    "    -docker run -p 9001:80 --name fossology -d fossology/fossology \n",
    "2. Once your container is running ,Log in to http://fossology.\\<domain name\\>/repo/ \n",
    "3. System Administrators credentials\n",
    "    Default username: fossy \n",
    "    Default password: fossy \n",
    "4. Now you are logged in to your fossology insatnce\n",
    "5. Analyze the Project :\n",
    "    1. Go to Upload then From file\n",
    "    2. Download the zip file of the project and add the zip file in \"choose files\".\n",
    "    3. Then checkbox for below line needs to be checked\n",
    "        \"Apply global decisions for current upload\"\n",
    "        \"visible for all groups\"\n",
    "        Select optional analysis:\n",
    "        \"copyright/Email?URL/Author Analysis\"\n",
    "        \"ECC Analysis,scanning for text fragments potentially relevent for export control\"\n",
    "        \"IPRA Analysis,scanning for text fragments potentially relevent for patent issues\"\n",
    "        \"Keyword Analysis\"\n",
    "        \"Monk License Analysis,scanning for license performing a text comparison\"\n",
    "        \"Nomos License Analysis ,scanning for license using regular expression\"\n",
    "        \"Ojo License Analysis,scanning for licesense using SPDX-License-Identifier\"\n",
    "        Automatic concludede License Decider:\n",
    "        \"Scanners matches if all Nomos findings are within Monk findings\"\n",
    "        \"scanners matches if ojo or REUSE software findings are no contradication with other findings\"\n",
    "        -then click on \"upload\"\n",
    "    4. After clicking on upload, you will see the “upload #.” click on the blue link to see the jobs running  \n",
    "    5. To download the report, click on “Browse” and click on “select action” for the respective project and click on “Export CSV report (SPDX).” Click on “Jobs” to check the CSV report being downloaded. \n",
    "6. Downloded file is the formate of CSV convert it into json.(file should be in json formate)\n",
    "7. After converting the file should be saved inside the assessment datastore directory in the appropriate location."
   ]
  }
 ],
 "metadata": {
  "language_info": {
   "name": "python"
  }
 },
 "nbformat": 4,
 "nbformat_minor": 5
}
