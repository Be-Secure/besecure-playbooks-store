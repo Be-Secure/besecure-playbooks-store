{
 "cells": [
  {
   "cell_type": "markdown",
   "metadata": {},
   "source": [
    "# Steps to perform SAST using Sonarqube"
   ]
  },
  {
   "cell_type": "markdown",
   "metadata": {},
   "source": [
    "## Check if Sonarqube is up"
   ]
  },
  {
   "cell_type": "code",
   "execution_count": null,
   "metadata": {},
   "outputs": [],
   "source": [
    "!docker ps | grep sonarqube"
   ]
  },
  {
   "cell_type": "markdown",
   "metadata": {},
   "source": [
    "## Start the container if not available"
   ]
  },
  {
   "cell_type": "code",
   "execution_count": null,
   "metadata": {},
   "outputs": [],
   "source": [
    "!docker run -d --name sonarqube -p 9000:9000 sonarqube"
   ]
  },
  {
   "cell_type": "markdown",
   "metadata": {},
   "source": [
    "### Run the below cell if you already have a container"
   ]
  },
  {
   "cell_type": "code",
   "execution_count": null,
   "metadata": {},
   "outputs": [],
   "source": [
    "!docker start sonarqube"
   ]
  },
  {
   "cell_type": "markdown",
   "metadata": {},
   "source": [
    "## Setting variables"
   ]
  },
  {
   "cell_type": "code",
   "execution_count": 86,
   "metadata": {},
   "outputs": [],
   "source": [
    "import os\n",
    "\n",
    "os.environ[\"SONARQUBE_URL\"] = #### Enter sonarqube server url\n",
    "os.environ[\"USERNAME\"] = #### Enter your sonarqube username\n",
    "os.environ[\"PASSWORD\"] = #### Enter your sonarqube password\n",
    "os.environ[\"YOUR_PROJECT_KEY\"] = #### Enter your project key(can be the same as project name)\n",
    "os.environ[\"YOUR_PROJECT_NAME\"] = #### Enter your project name"
   ]
  },
  {
   "cell_type": "markdown",
   "metadata": {},
   "source": [
    "## Creating user token\n",
    "\n",
    "This token wil be used across multiple projects"
   ]
  },
  {
   "cell_type": "code",
   "execution_count": null,
   "metadata": {},
   "outputs": [],
   "source": [
    "import os\n",
    "!curl -u $USERNAME:$PASSWORD -X POST $SONARQUBE_URL/api/user_tokens/generate -d name=automation_token > /tmp/sonar.json\n",
    "!jq -r '.token' /tmp/sonar.json > /tmp/token.txt\n",
    "token = open('/tmp/token.txt', 'r').read()\n",
    "os.environ[\"TOKEN\"] = token\n",
    "!rm /tmp/token.txt /tmp/sonar.json"
   ]
  },
  {
   "cell_type": "markdown",
   "metadata": {},
   "source": [
    "### Get user token\n",
    "\n",
    "Run the below cell to get the generated token. Copy it and keep it in hand"
   ]
  },
  {
   "cell_type": "code",
   "execution_count": null,
   "metadata": {},
   "outputs": [],
   "source": [
    "import os\n",
    "print(os.environ.get(\"TOKEN\"))"
   ]
  },
  {
   "cell_type": "markdown",
   "metadata": {},
   "source": [
    "### Run the below cell, if you already have a token"
   ]
  },
  {
   "cell_type": "code",
   "execution_count": null,
   "metadata": {},
   "outputs": [],
   "source": [
    "import os\n",
    "\n",
    "os.environ[\"TOKEN\"] = ### Enter token"
   ]
  },
  {
   "cell_type": "markdown",
   "metadata": {},
   "source": [
    "## Create project\n",
    "\n",
    "The command below will create a new project using the main branch. \n",
    "\n",
    "Note- `If you require a different branch, please visit the sonarqube server page and create the project manually.`"
   ]
  },
  {
   "cell_type": "code",
   "execution_count": null,
   "metadata": {},
   "outputs": [],
   "source": [
    "!curl -u \"$USERNAME\":\"$PASSWORD\" -X POST \"$SONARQUBE_URL/api/projects/create?name=$YOUR_PROJECT_NAME&project=$YOUR_PROJECT_KEY\""
   ]
  },
  {
   "cell_type": "markdown",
   "metadata": {},
   "source": [
    "## Run Scan\n",
    "Move to your project directory to perform the scan"
   ]
  },
  {
   "cell_type": "markdown",
   "metadata": {},
   "source": [
    "### For maven builds"
   ]
  },
  {
   "cell_type": "code",
   "execution_count": null,
   "metadata": {
    "scrolled": true
   },
   "outputs": [],
   "source": [
    "import os\n",
    "\n",
    "artifact_dir = os.environ.get(\"BESMAN_ARTIFACT_DIR\")\n",
    "os.chdir(artifact_dir)\n",
    "!mvn clean verify sonar:sonar -Dsonar.projectKey=\"$YOUR_PROJECT_KEY\" -Dsonar.projectName=\"$YOUR_PROJECT_NAME\" -Dsonar.host.url=\"$SONARQUBE_URL\" -Dsonar.login=\"$TOKEN\"\n"
   ]
  },
  {
   "cell_type": "markdown",
   "metadata": {},
   "source": [
    "### For gradle builds\n",
    "\n",
    "Running an analysis with Gradle is straighforward. You just need to declare the `org.sonarqube` plugin in your `build.gradle` or `build.gradle.kts` file:\n",
    "\n",
    "**build.gradle**\n",
    "```json\n",
    "plugins {\n",
    "  id \"org.sonarqube\" version \"5.0.0.4638\"\n",
    "}\n",
    "```\n",
    "\n",
    "**build.gradle.kts**\n",
    "\n",
    "```json\n",
    "plugins {\n",
    "  id(\"org.sonarqube\") version \"5.0.0.4638\"\n",
    "}\n",
    "```\n"
   ]
  },
  {
   "cell_type": "code",
   "execution_count": null,
   "metadata": {},
   "outputs": [],
   "source": [
    "import os\n",
    "\n",
    "artifact_dir = os.environ.get(\"BESMAN_ARTIFACT_DIR\")\n",
    "os.chdir(artifact_dir)\n",
    "!./gradlew sonar -Dsonar.projectKey=\"$YOUR_PROJECT_KEY\" -Dsonar.projectName='$YOUR_PROJECT_NAME' -Dsonar.host.url=\"$SONARQUBE_URL\" -Dsonar.token=$TOKEN"
   ]
  },
  {
   "cell_type": "markdown",
   "metadata": {},
   "source": [
    "### For others(JS, TS, Go, Python, PHP)"
   ]
  },
  {
   "cell_type": "code",
   "execution_count": null,
   "metadata": {},
   "outputs": [],
   "source": [
    "import os\n",
    "\n",
    "artifact_dir = os.environ.get(\"BESMAN_ARTIFACT_DIR\")\n",
    "os.chdir(artifact_dir)\n",
    "!sonar-scanner -Dsonar.projectKey=\"$YOUR_PROJECT_KEY\" -Dsonar.sources=. -Dsonar.host.url=\"$SONARQUBE_URL\" -Dsonar.token=\"$TOKEN\""
   ]
  },
  {
   "cell_type": "markdown",
   "metadata": {},
   "source": [
    "## View Report\n",
    "\n",
    "Once the assessment is done, you can visit the Sonarqube server and see your project scan report"
   ]
  },
  {
   "cell_type": "markdown",
   "metadata": {},
   "source": [
    "## Download Report"
   ]
  },
  {
   "cell_type": "code",
   "execution_count": null,
   "metadata": {},
   "outputs": [],
   "source": [
    "import os\n",
    "import requests\n",
    "import json\n",
    "\n",
    "# Get the SonarQube URL from the environment variable\n",
    "sonarqube_url_env = os.environ.get('SONARQUBE_URL')\n",
    "\n",
    "username = os.environ.get(\"USERNAME\")\n",
    "password = os.environ.get(\"PASSWORD\")\n",
    "detailed_report = os.environ.get(\"DETAILED_REPORT_PATH\")\n",
    "project_name = os.environ.get(\"YOUR_PROJECT_NAME\")\n",
    "# Specify the initial page size\n",
    "page_size = 500  # For example, set the initial page size to 500\n",
    "\n",
    "url = f\"{sonarqube_url_env}/api/issues/search?componentKeys={project_name}&ps={page_size}&p=1\"\n",
    "vuln_url = f\"{sonarqube_url_env}/api/issues/search?componentKeys={project_name}&types=VULNERABILITY&ps={page_size}&p=1\"\n",
    "\n",
    "\n",
    "# Get first page data\n",
    "try:\n",
    "    response_first = requests.get(url, auth=(username, password))\n",
    "    response_first.raise_for_status()  # Raise an exception for non-200 responses\n",
    "    data_first = response_first.json()\n",
    "except requests.RequestException as e:\n",
    "    print(\"Error making the request:\", e)\n",
    "except json.JSONDecodeError as e:\n",
    "    print(\"Error decoding JSON:\", e)\n",
    "    print(\"Raw response content:\", response_first.content)\n",
    "\n",
    "# Get first page data for type VULNERABILITY \n",
    "try:\n",
    "    response_vuln_first = requests.get(vuln_url, auth=(username, password))\n",
    "    response_vuln_first.raise_for_status()  # Raise an exception for non-200 responses\n",
    "    data_vuln_first = response_vuln_first.json()\n",
    "except requests.RequestException as e:\n",
    "    print(\"Error making the request:\", e)\n",
    "except json.JSONDecodeError as e:\n",
    "    print(\"Error decoding JSON:\", e)\n",
    "    print(\"Raw response content:\", response_vuln_first.content)\n",
    "\n",
    "# Initialize variables for tracking the current page and the aggregated issues\n",
    "all_issues = []\n",
    "\n",
    "# Fetch data from all pages\n",
    "current_page = 2\n",
    "while True:\n",
    "    # Construct the API URL with the current page size and page number\n",
    "    url = f\"{sonarqube_url_env}/api/issues/search?componentKeys={project_name}&ps={page_size}&p={current_page}\"\n",
    "\n",
    "    # Make the API request\n",
    "    try:\n",
    "        response = requests.get(url, auth=(username, password))\n",
    "        response.raise_for_status()  # Raise an exception for non-200 responses\n",
    "        data = response.json()\n",
    "\n",
    "        # Extract the \"issues\" field and add it to the aggregated issues\n",
    "        if \"issues\" in data:\n",
    "            data_first[\"issues\"].extend(data[\"issues\"])\n",
    "\n",
    "        # Increment the page number for the next iteration\n",
    "        current_page += 1\n",
    "\n",
    "        # Check if there are more pages to fetch\n",
    "        if len(data[\"issues\"]) < page_size:\n",
    "            break  # Exit the loop if the last page has been reached\n",
    "    except requests.RequestException as e:\n",
    "        print(\"Error making the request:\", e)\n",
    "        break  # Exit the loop on request exception\n",
    "    except json.JSONDecodeError as e:\n",
    "        print(\"Error decoding JSON:\", e)\n",
    "        print(\"Raw response content:\", response.content)\n",
    "        break  # Exit the loop on JSON decoding error\n",
    "\n",
    "# Get the vulnerability data from page 2 onwards \n",
    "current_page = 2\n",
    "while True:\n",
    "    # Construct the API URL with the current page size and page number\n",
    "    vuln_url = f\"{sonarqube_url_env}/api/issues/search?componentKeys={project_name}&types=VULNERABILITY&ps={page_size}&p={current_page}\"\n",
    "\n",
    "    # Make the API request\n",
    "    try:\n",
    "        vuln_response = requests.get(vuln_url, auth=(username, password))\n",
    "        vuln_response.raise_for_status()  # Raise an exception for non-200 responses\n",
    "        vuln_data = vuln_response.json()\n",
    "\n",
    "\n",
    "        # Extract the \"issues\" field and add it to the aggregated issues\n",
    "        if vuln_data[\"total\"] ==  0:\n",
    "            break\n",
    "        if len(vuln_data[\"issues\"]) > 0:\n",
    "            data_vuln_first[\"issues\"].extend(vuln_data[\"issues\"])\n",
    "\n",
    "        # Increment the page number for the next iteration\n",
    "        current_page += 1\n",
    "\n",
    "        # Check if there are more pages to fetch\n",
    "        if len(vuln_data[\"issues\"]) < page_size:\n",
    "            break  # Exit the loop if the last page has been reached\n",
    "    except requests.RequestException as e:\n",
    "        print(\"Error making the request:\", e)\n",
    "        break  # Exit the loop on request exception\n",
    "    except json.JSONDecodeError as e:\n",
    "        print(\"Error decoding JSON:\", e)\n",
    "        print(\"Raw response content:\", vuln_response.content)\n",
    "        break  # Exit the loop on JSON decoding error\n",
    "\n",
    "\n",
    "data_first[\"issues\"].extend(data_vuln_first[\"issues\"])\n",
    "with open(detailed_report, \"w\") as file:\n",
    "    json.dump(data_first, file, indent=4)\n"
   ]
  }
 ],
 "metadata": {
  "kernelspec": {
   "display_name": "Python 3 (ipykernel)",
   "language": "python",
   "name": "python3"
  },
  "language_info": {
   "codemirror_mode": {
    "name": "ipython",
    "version": 3
   },
   "file_extension": ".py",
   "mimetype": "text/x-python",
   "name": "python",
   "nbconvert_exporter": "python",
   "pygments_lexer": "ipython3",
   "version": "3.10.12"
  }
 },
 "nbformat": 4,
 "nbformat_minor": 4
}
